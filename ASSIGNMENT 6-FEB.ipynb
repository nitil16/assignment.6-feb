{
 "cells": [
  {
   "cell_type": "markdown",
   "id": "0ef1c818-b3e1-4e30-9d48-80d1e9259576",
   "metadata": {},
   "source": [
    "                                              ASSIGNMENT 6-FEB"
   ]
  },
  {
   "cell_type": "markdown",
   "id": "19cfe9f9-c96e-4adf-80d2-7c8eb1179a1b",
   "metadata": {},
   "source": [
    "QUESTION.1"
   ]
  },
  {
   "cell_type": "markdown",
   "id": "ba024def-27a8-46c2-bbbb-1df789092251",
   "metadata": {},
   "source": [
    "Q1. Create a function which will take a list as an argument and return the product of all the numbers after creating a flat list.\n",
    "Use the below-given list as an argument for your function.\n",
    "list1 = [1,2,3,4, [44,55,66, True], False, (34,56,78,89,34), {1,2,3,3,2,1}, {1:34, \"key2\": [55, 67, 78, 89], 4: (45,22, 61, 34)}, [56, 'data science'], 'Machine Learning']\n",
    "Note: you must extract numeric keys and values of the dictionary also."
   ]
  },
  {
   "cell_type": "code",
   "execution_count": 15,
   "id": "1e051f8d-81c5-419e-bf9a-5ad1413b67dc",
   "metadata": {},
   "outputs": [
    {
     "name": "stdout",
     "output_type": "stream",
     "text": [
      "Final List after filter :  [1, 2, 3, 4, 44, 55, 66, 34, 56, 78, 89, 34, 1, 2, 3, 3, 2, 1, 1, 4, 34, 55, 67, 78, 89, 45, 22, 61, 34, 56]\n",
      "\n",
      "Product of list :  24808271033922512873003047452672000\n"
     ]
    }
   ],
   "source": [
    "\n",
    "# Code line goes here :\n",
    "\n",
    "def producOfNumbersinList(given_list):\n",
    "    \n",
    "    for items in given_list:\n",
    "\n",
    "        if type(items) == int or type(items) == float:                  # filter integer or float types from the given list\n",
    "            blankList.append(items)\n",
    "            \n",
    "        elif type(items) == list or type(items) == tuple:               # filter list or tuple types from the given list\n",
    "            for i in items:\n",
    "                if type(i) == int or type(i) == float:\n",
    "                    blankList.append(i)\n",
    "                    \n",
    "        elif type(items) == dict:                                       # filter dictionary types from the given list\n",
    "            for key in items.keys():                                    # filter integer or float key from the dict\n",
    "                if type(key) == int or type(key) == float:\n",
    "                    blankList.append(key)\n",
    "                else:\n",
    "                    pass\n",
    "                \n",
    "            for value in items.values():                                # filter integer or float values from the dict\n",
    "                if type(value) == int or type(value) == float:\n",
    "                    blankList.append(value)\n",
    "                    \n",
    "                elif type(value) == list or type(value) == tuple:\n",
    "                    for i in value:\n",
    "                        blankList.append(i)\n",
    "\n",
    "                else:\n",
    "                    pass\n",
    "            \n",
    "        elif type(items) == set:                   # filter set type from the given list\n",
    "            \n",
    "            itemsinSet = 0\n",
    "            finalListOfSet = []                # creating empty list to store all the values of set including duplicates in the form of list\n",
    "            setasList = list(items)             # converting set into list and storing in the variable \"setasList\"\n",
    "\n",
    "            for i in setasList:               # checking for all the values in set including duplicates and storing in the variable \"itemsinSet\"\n",
    "                setasList.count(i)\n",
    "                itemsinSet += i\n",
    "                \n",
    "                if itemsinSet == 2*len(setasList):                # checking if the set contains duplicate values and then apeending it to the blank list created\n",
    "                    finalListOfSet = setasList + setasList[::-1]\n",
    "\n",
    "                    for i in finalListOfSet:\n",
    "                        blankList.append(i)\n",
    "                else:\n",
    "                    pass\n",
    "    \n",
    "    return blankList\n",
    "\n",
    "\n",
    "list1 = [1,2,3,4, [44,55,66, True], False, (34,56,78,89,34), {1,2,3,3,2,1}, {1: 34, \"key2\": [55, 67, 78, 89], 4: (45, 22, 61, 34)}, [56, 'data science'], 'Machine Learning']\n",
    "\n",
    "blankList = []\n",
    "\n",
    "# passing list1 as an argument to the function\n",
    "producOfNumbersinList(list1)\n",
    "\n",
    "# calculating product of the filtered list of integers & floats\n",
    "product = 1\n",
    "for i in blankList:\n",
    "    product *= i\n",
    "\n",
    "\n",
    "# printing the final outcome\n",
    "print(\"Final List after filter : \", blankList)\n",
    "print()\n",
    "print(\"Product of list : \", product)"
   ]
  },
  {
   "cell_type": "code",
   "execution_count": null,
   "id": "641e1318-c772-4ada-ba49-5cd0c94d93ce",
   "metadata": {},
   "outputs": [],
   "source": []
  },
  {
   "cell_type": "markdown",
   "id": "32b7b31d-22b7-49b8-bfa4-1a5e4fd9c5ed",
   "metadata": {},
   "source": [
    "QUESTION.2"
   ]
  },
  {
   "cell_type": "markdown",
   "id": "c9529226-cfbf-4135-8706-886dca860a99",
   "metadata": {},
   "source": [
    "Q2. Q2. Write a python program for encrypting a message sent to you by your friend. The logic of encryption\n",
    "should be such that, for a the output should be z. For b, the output should be y. For c, the output should\n",
    "be x respectively. Also, the whitespace should be replaced with a dollar sign. Keep the punctuation\n",
    "marks unchanged.\n",
    "Input Sentence: I want to become a Data Scientist.\n",
    "Encrypt the above input sentence using the program you just created.\n",
    "Note: Convert the given input sentence into lowercase before encrypting. The final output should be\n",
    "lowercase."
   ]
  },
  {
   "cell_type": "code",
   "execution_count": 16,
   "id": "f99280c4-4724-4be3-bff4-e72cce1ceea8",
   "metadata": {},
   "outputs": [],
   "source": [
    "# Code line goes here "
   ]
  },
  {
   "cell_type": "code",
   "execution_count": 17,
   "id": "ef629402-03fe-42da-9fcd-160241ed8fe4",
   "metadata": {},
   "outputs": [],
   "source": [
    "def encryptMessage(message):\n",
    "\n",
    "    message = message.lower()\n",
    "    encrypted = \"\"\n",
    "\n",
    "    for char in message:\n",
    "        if char == \" \":\n",
    "            encrypted += \"$\"\n",
    "\n",
    "        elif char.isalpha():\n",
    "            encrypted += chr(219 - ord(char))\n",
    "\n",
    "        else:\n",
    "            encrypted += char\n",
    "\n",
    "    return encrypted\n"
   ]
  },
  {
   "cell_type": "code",
   "execution_count": null,
   "id": "97e6af08-a034-4466-950a-c875ebdf459f",
   "metadata": {},
   "outputs": [],
   "source": []
  }
 ],
 "metadata": {
  "kernelspec": {
   "display_name": "Python 3 (ipykernel)",
   "language": "python",
   "name": "python3"
  },
  "language_info": {
   "codemirror_mode": {
    "name": "ipython",
    "version": 3
   },
   "file_extension": ".py",
   "mimetype": "text/x-python",
   "name": "python",
   "nbconvert_exporter": "python",
   "pygments_lexer": "ipython3",
   "version": "3.10.8"
  }
 },
 "nbformat": 4,
 "nbformat_minor": 5
}
